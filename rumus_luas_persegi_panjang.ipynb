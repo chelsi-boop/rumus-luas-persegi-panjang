{
  "nbformat": 4,
  "nbformat_minor": 0,
  "metadata": {
    "colab": {
      "provenance": [],
      "authorship_tag": "ABX9TyPwiSZNwlRRSNwknSm9BMoS",
      "include_colab_link": true
    },
    "kernelspec": {
      "name": "python3",
      "display_name": "Python 3"
    },
    "language_info": {
      "name": "python"
    }
  },
  "cells": [
    {
      "cell_type": "markdown",
      "metadata": {
        "id": "view-in-github",
        "colab_type": "text"
      },
      "source": [
        "<a href=\"https://colab.research.google.com/github/chelsi-boop/rumus-luas-persegi-panjang/blob/main/rumus_luas_persegi_panjang.ipynb\" target=\"_parent\"><img src=\"https://colab.research.google.com/assets/colab-badge.svg\" alt=\"Open In Colab\"/></a>"
      ]
    },
    {
      "cell_type": "markdown",
      "source": [
        "kelompok 1"
      ],
      "metadata": {
        "id": "-raJRCk4zMVg"
      }
    },
    {
      "cell_type": "code",
      "execution_count": 1,
      "metadata": {
        "colab": {
          "base_uri": "https://localhost:8080/"
        },
        "id": "zlaQgmu3yYH5",
        "outputId": "ea13ad29-ab85-47b1-bf1f-990f9e28a970"
      },
      "outputs": [
        {
          "output_type": "stream",
          "name": "stdout",
          "text": [
            "luas persegi panjang adalah 1000 cm\n"
          ]
        }
      ],
      "source": [
        "panjang = 50\n",
        "lebar = 20\n",
        "luas = panjang * lebar\n",
        "print(\"luas persegi panjang adalah\",luas,\"cm\")"
      ]
    }
  ]
}